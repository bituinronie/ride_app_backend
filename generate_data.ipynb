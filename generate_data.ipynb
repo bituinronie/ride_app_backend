{
 "cells": [
  {
   "cell_type": "code",
   "execution_count": 8,
   "metadata": {},
   "outputs": [],
   "source": [
    "import pandas as pd\n",
    "import numpy as np\n",
    "\n",
    "# Set the random seed for reproducibility\n",
    "np.random.seed(0)\n",
    "\n",
    "size = 1000\n",
    "# Generate synthetic data\n",
    "data = {\n",
    "    \"Heart_Rate_(BPM)\": np.random.randint(60, 100, size=size),\n",
    "    \"HRV_(ms)\": np.random.uniform(20, 100, size=size),\n",
    "    \"Systolic_BP_(mmHg)\": np.random.randint(110, 140, size=size),\n",
    "    \"Diastolic_BP_(mmHg)\": np.random.randint(70, 90, size=size),\n",
    "    \"Respiration_Rate_(Breaths_per_Minute)\": np.random.randint(12, 20, size=size),\n",
    "    \"Blood_Oxygen_Level_(SpO2)\": np.random.uniform(95, 100, size=size),\n",
    "    \"Ambient_Temperature_(C)\": np.random.uniform(15, 30, size=size),\n",
    "    \"Ambient_Noise_Level_(dB)\": np.random.uniform(30, 80, size=size),\n",
    "    \"Time_of_Day\": np.random.choice([\"Morning\", \"Afternoon\", \"Evening\", \"Night\"], size=size),\n",
    "    \"Previous_Activity_Level_(Steps)\": np.random.randint(0, 10000, size=size),\n",
    "    \"Age\": np.random.randint(18, 80, size=size),\n",
    "}\n",
    "\n",
    "# Assuming a simple criteria for 'fit to drive/ride' as an example: \n",
    "# - Heart Rate between 60 and 90 BPM\n",
    "# - Systolic BP < 130 mmHg\n",
    "# - Diastolic BP < 85 mmHg\n",
    "# - Blood Oxygen Level > 97%\n",
    "# The criteria can be adjusted based on more precise health guidelines\n",
    "data[\"Is_Fit\"] = np.where(\n",
    "    (data[\"Heart_Rate_(BPM)\"] <= 90) &\n",
    "    (data[\"Systolic_BP_(mmHg)\"] < 130) &\n",
    "    (data[\"Diastolic_BP_(mmHg)\"] < 85) &\n",
    "    (data[\"Blood_Oxygen_Level_(SpO2)\"] > 97),\n",
    "    1, 0\n",
    ")\n",
    "\n",
    "\n",
    "df = pd.DataFrame(data)"
   ]
  },
  {
   "cell_type": "code",
   "execution_count": 9,
   "metadata": {},
   "outputs": [],
   "source": [
    "# Introduce 'dirty' data to 5% of the dataset\n",
    "dirty_indices = np.random.choice(df.index, size=int(0.1 * len(df)), replace=False)\n",
    "\n",
    "# Introduce some inconsistencies/errors in the data\n",
    "# For simplicity, we'll randomly adjust heart rate and blood pressure by significant amounts,\n",
    "# and set some Blood Oxygen Levels and HRV to unrealistic values\n",
    "np.random.seed(24)  # Ensure reproducibility for dirty data\n",
    "df.loc[dirty_indices, \"Heart_Rate_(BPM)\"] = np.random.randint(50, 200, size=len(dirty_indices))\n",
    "df.loc[dirty_indices, \"Systolic_BP_(mmHg)\"] = np.random.randint(90, 200, size=len(dirty_indices))\n",
    "df.loc[dirty_indices, \"Diastolic_BP_(mmHg)\"] = np.random.randint(60, 150, size=len(dirty_indices))\n",
    "df.loc[dirty_indices, \"Blood_Oxygen_Level_(SpO2)\"] = np.random.uniform(80, 100, size=len(dirty_indices))\n",
    "df.loc[dirty_indices, \"HRV_(ms)\"] = np.random.uniform(10, 200, size=len(dirty_indices))\n",
    "\n",
    "# Recalculate the 'Is_Fit' column to reflect these changes\n",
    "data[\"Is_Fit\"] = np.where(\n",
    "    (data[\"Heart_Rate_(BPM)\"] <= 90) &\n",
    "    (data[\"Systolic_BP_(mmHg)\"] < 130) &\n",
    "    (data[\"Diastolic_BP_(mmHg)\"] < 85) &\n",
    "    (data[\"Blood_Oxygen_Level_(SpO2)\"] > 97),\n",
    "    1, 0\n",
    ")\n",
    "\n",
    "# save the dataframes to csv files\n",
    "df.to_csv('data_is_fit.csv', index=False)"
   ]
  }
 ],
 "metadata": {
  "kernelspec": {
   "display_name": "datascience",
   "language": "python",
   "name": "python3"
  },
  "language_info": {
   "codemirror_mode": {
    "name": "ipython",
    "version": 3
   },
   "file_extension": ".py",
   "mimetype": "text/x-python",
   "name": "python",
   "nbconvert_exporter": "python",
   "pygments_lexer": "ipython3",
   "version": "3.11.4"
  }
 },
 "nbformat": 4,
 "nbformat_minor": 2
}
